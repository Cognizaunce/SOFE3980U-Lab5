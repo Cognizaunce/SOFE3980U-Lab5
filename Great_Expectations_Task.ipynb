{
  "cells": [
    {
      "cell_type": "markdown",
      "metadata": {
        "id": "S0KvgYslI64f"
      },
      "source": [
        "# Great Expectations Task"
      ]
    },
    {
      "cell_type": "markdown",
      "metadata": {
        "id": "9R147FfXJG4F"
      },
      "source": [
        "## 1. Install Great Expectations Library\n"
      ]
    },
    {
      "cell_type": "code",
      "execution_count": 2,
      "metadata": {
        "collapsed": true,
        "id": "TGqDcWNh3Y_-"
      },
      "outputs": [
        {
          "name": "stdout",
          "output_type": "stream",
          "text": [
            "Requirement already satisfied: great_expectations in c:\\users\\gloss\\documents\\sofe3980u-lab5\\env\\lib\\site-packages (0.18.22)\n",
            "Requirement already satisfied: altair<5.0.0,>=4.2.1 in c:\\users\\gloss\\documents\\sofe3980u-lab5\\env\\lib\\site-packages (from great_expectations) (4.2.2)\n",
            "Requirement already satisfied: Click>=7.1.2 in c:\\users\\gloss\\documents\\sofe3980u-lab5\\env\\lib\\site-packages (from great_expectations) (8.1.8)\n",
            "Requirement already satisfied: colorama>=0.4.3 in c:\\users\\gloss\\documents\\sofe3980u-lab5\\env\\lib\\site-packages (from great_expectations) (0.4.6)\n",
            "Requirement already satisfied: cryptography>=3.2 in c:\\users\\gloss\\documents\\sofe3980u-lab5\\env\\lib\\site-packages (from great_expectations) (44.0.2)\n",
            "Requirement already satisfied: Ipython>=7.16.3 in c:\\users\\gloss\\documents\\sofe3980u-lab5\\env\\lib\\site-packages (from great_expectations) (9.0.2)\n",
            "Requirement already satisfied: ipywidgets>=7.5.1 in c:\\users\\gloss\\documents\\sofe3980u-lab5\\env\\lib\\site-packages (from great_expectations) (8.1.5)\n",
            "Requirement already satisfied: jinja2>=2.10 in c:\\users\\gloss\\documents\\sofe3980u-lab5\\env\\lib\\site-packages (from great_expectations) (3.1.6)\n",
            "Requirement already satisfied: jsonpatch>=1.22 in c:\\users\\gloss\\documents\\sofe3980u-lab5\\env\\lib\\site-packages (from great_expectations) (1.33)\n",
            "Requirement already satisfied: jsonschema>=2.5.1 in c:\\users\\gloss\\documents\\sofe3980u-lab5\\env\\lib\\site-packages (from great_expectations) (4.23.0)\n",
            "Requirement already satisfied: makefun<2,>=1.7.0 in c:\\users\\gloss\\documents\\sofe3980u-lab5\\env\\lib\\site-packages (from great_expectations) (1.15.6)\n",
            "Requirement already satisfied: marshmallow<4.0.0,>=3.7.1 in c:\\users\\gloss\\documents\\sofe3980u-lab5\\env\\lib\\site-packages (from great_expectations) (3.26.1)\n",
            "Requirement already satisfied: mistune>=0.8.4 in c:\\users\\gloss\\documents\\sofe3980u-lab5\\env\\lib\\site-packages (from great_expectations) (3.1.3)\n",
            "Requirement already satisfied: nbformat>=5.0 in c:\\users\\gloss\\documents\\sofe3980u-lab5\\env\\lib\\site-packages (from great_expectations) (5.10.4)\n",
            "Requirement already satisfied: notebook>=6.4.10 in c:\\users\\gloss\\documents\\sofe3980u-lab5\\env\\lib\\site-packages (from great_expectations) (7.3.3)\n",
            "Requirement already satisfied: packaging in c:\\users\\gloss\\documents\\sofe3980u-lab5\\env\\lib\\site-packages (from great_expectations) (24.2)\n",
            "Requirement already satisfied: pydantic>=1.9.2 in c:\\users\\gloss\\documents\\sofe3980u-lab5\\env\\lib\\site-packages (from great_expectations) (2.10.6)\n",
            "Requirement already satisfied: pyparsing>=2.4 in c:\\users\\gloss\\documents\\sofe3980u-lab5\\env\\lib\\site-packages (from great_expectations) (3.2.3)\n",
            "Requirement already satisfied: python-dateutil>=2.8.1 in c:\\users\\gloss\\documents\\sofe3980u-lab5\\env\\lib\\site-packages (from great_expectations) (2.9.0.post0)\n",
            "Requirement already satisfied: pytz>=2021.3 in c:\\users\\gloss\\documents\\sofe3980u-lab5\\env\\lib\\site-packages (from great_expectations) (2025.2)\n",
            "Requirement already satisfied: requests>=2.20 in c:\\users\\gloss\\documents\\sofe3980u-lab5\\env\\lib\\site-packages (from great_expectations) (2.32.3)\n",
            "Requirement already satisfied: ruamel.yaml<0.18,>=0.16 in c:\\users\\gloss\\documents\\sofe3980u-lab5\\env\\lib\\site-packages (from great_expectations) (0.17.40)\n",
            "Requirement already satisfied: scipy>=1.6.0 in c:\\users\\gloss\\documents\\sofe3980u-lab5\\env\\lib\\site-packages (from great_expectations) (1.15.2)\n",
            "Requirement already satisfied: tqdm>=4.59.0 in c:\\users\\gloss\\documents\\sofe3980u-lab5\\env\\lib\\site-packages (from great_expectations) (4.67.1)\n",
            "Requirement already satisfied: typing-extensions>=3.10.0.0 in c:\\users\\gloss\\documents\\sofe3980u-lab5\\env\\lib\\site-packages (from great_expectations) (4.12.2)\n",
            "Requirement already satisfied: tzlocal>=1.2 in c:\\users\\gloss\\documents\\sofe3980u-lab5\\env\\lib\\site-packages (from great_expectations) (5.3.1)\n",
            "Requirement already satisfied: urllib3>=1.26 in c:\\users\\gloss\\documents\\sofe3980u-lab5\\env\\lib\\site-packages (from great_expectations) (2.3.0)\n",
            "Requirement already satisfied: numpy<2.0.0,>=1.22.4 in c:\\users\\gloss\\documents\\sofe3980u-lab5\\env\\lib\\site-packages (from great_expectations) (1.26.4)\n",
            "Requirement already satisfied: pandas>=1.3.0 in c:\\users\\gloss\\documents\\sofe3980u-lab5\\env\\lib\\site-packages (from great_expectations) (2.2.3)\n",
            "Requirement already satisfied: entrypoints in c:\\users\\gloss\\documents\\sofe3980u-lab5\\env\\lib\\site-packages (from altair<5.0.0,>=4.2.1->great_expectations) (0.4)\n",
            "Requirement already satisfied: toolz in c:\\users\\gloss\\documents\\sofe3980u-lab5\\env\\lib\\site-packages (from altair<5.0.0,>=4.2.1->great_expectations) (1.0.0)\n",
            "Requirement already satisfied: cffi>=1.12 in c:\\users\\gloss\\documents\\sofe3980u-lab5\\env\\lib\\site-packages (from cryptography>=3.2->great_expectations) (1.17.1)\n",
            "Requirement already satisfied: decorator in c:\\users\\gloss\\documents\\sofe3980u-lab5\\env\\lib\\site-packages (from Ipython>=7.16.3->great_expectations) (5.2.1)\n",
            "Requirement already satisfied: ipython-pygments-lexers in c:\\users\\gloss\\documents\\sofe3980u-lab5\\env\\lib\\site-packages (from Ipython>=7.16.3->great_expectations) (1.1.1)\n",
            "Requirement already satisfied: jedi>=0.16 in c:\\users\\gloss\\documents\\sofe3980u-lab5\\env\\lib\\site-packages (from Ipython>=7.16.3->great_expectations) (0.19.2)\n",
            "Requirement already satisfied: matplotlib-inline in c:\\users\\gloss\\documents\\sofe3980u-lab5\\env\\lib\\site-packages (from Ipython>=7.16.3->great_expectations) (0.1.7)\n",
            "Requirement already satisfied: prompt_toolkit<3.1.0,>=3.0.41 in c:\\users\\gloss\\documents\\sofe3980u-lab5\\env\\lib\\site-packages (from Ipython>=7.16.3->great_expectations) (3.0.50)\n",
            "Requirement already satisfied: pygments>=2.4.0 in c:\\users\\gloss\\documents\\sofe3980u-lab5\\env\\lib\\site-packages (from Ipython>=7.16.3->great_expectations) (2.19.1)\n",
            "Requirement already satisfied: stack_data in c:\\users\\gloss\\documents\\sofe3980u-lab5\\env\\lib\\site-packages (from Ipython>=7.16.3->great_expectations) (0.6.3)\n",
            "Requirement already satisfied: traitlets>=5.13.0 in c:\\users\\gloss\\documents\\sofe3980u-lab5\\env\\lib\\site-packages (from Ipython>=7.16.3->great_expectations) (5.14.3)\n",
            "Requirement already satisfied: comm>=0.1.3 in c:\\users\\gloss\\documents\\sofe3980u-lab5\\env\\lib\\site-packages (from ipywidgets>=7.5.1->great_expectations) (0.2.2)\n",
            "Requirement already satisfied: widgetsnbextension~=4.0.12 in c:\\users\\gloss\\documents\\sofe3980u-lab5\\env\\lib\\site-packages (from ipywidgets>=7.5.1->great_expectations) (4.0.13)\n",
            "Requirement already satisfied: jupyterlab-widgets~=3.0.12 in c:\\users\\gloss\\documents\\sofe3980u-lab5\\env\\lib\\site-packages (from ipywidgets>=7.5.1->great_expectations) (3.0.13)\n",
            "Requirement already satisfied: MarkupSafe>=2.0 in c:\\users\\gloss\\documents\\sofe3980u-lab5\\env\\lib\\site-packages (from jinja2>=2.10->great_expectations) (3.0.2)\n",
            "Requirement already satisfied: jsonpointer>=1.9 in c:\\users\\gloss\\documents\\sofe3980u-lab5\\env\\lib\\site-packages (from jsonpatch>=1.22->great_expectations) (3.0.0)\n",
            "Requirement already satisfied: attrs>=22.2.0 in c:\\users\\gloss\\documents\\sofe3980u-lab5\\env\\lib\\site-packages (from jsonschema>=2.5.1->great_expectations) (25.3.0)\n",
            "Requirement already satisfied: jsonschema-specifications>=2023.03.6 in c:\\users\\gloss\\documents\\sofe3980u-lab5\\env\\lib\\site-packages (from jsonschema>=2.5.1->great_expectations) (2024.10.1)\n",
            "Requirement already satisfied: referencing>=0.28.4 in c:\\users\\gloss\\documents\\sofe3980u-lab5\\env\\lib\\site-packages (from jsonschema>=2.5.1->great_expectations) (0.36.2)\n",
            "Requirement already satisfied: rpds-py>=0.7.1 in c:\\users\\gloss\\documents\\sofe3980u-lab5\\env\\lib\\site-packages (from jsonschema>=2.5.1->great_expectations) (0.23.1)\n",
            "Requirement already satisfied: fastjsonschema>=2.15 in c:\\users\\gloss\\documents\\sofe3980u-lab5\\env\\lib\\site-packages (from nbformat>=5.0->great_expectations) (2.21.1)\n",
            "Requirement already satisfied: jupyter-core!=5.0.*,>=4.12 in c:\\users\\gloss\\documents\\sofe3980u-lab5\\env\\lib\\site-packages (from nbformat>=5.0->great_expectations) (5.7.2)\n",
            "Requirement already satisfied: jupyter-server<3,>=2.4.0 in c:\\users\\gloss\\documents\\sofe3980u-lab5\\env\\lib\\site-packages (from notebook>=6.4.10->great_expectations) (2.15.0)\n",
            "Requirement already satisfied: jupyterlab-server<3,>=2.27.1 in c:\\users\\gloss\\documents\\sofe3980u-lab5\\env\\lib\\site-packages (from notebook>=6.4.10->great_expectations) (2.27.3)\n",
            "Requirement already satisfied: jupyterlab<4.4,>=4.3.6 in c:\\users\\gloss\\documents\\sofe3980u-lab5\\env\\lib\\site-packages (from notebook>=6.4.10->great_expectations) (4.3.6)\n",
            "Requirement already satisfied: notebook-shim<0.3,>=0.2 in c:\\users\\gloss\\documents\\sofe3980u-lab5\\env\\lib\\site-packages (from notebook>=6.4.10->great_expectations) (0.2.4)\n",
            "Requirement already satisfied: tornado>=6.2.0 in c:\\users\\gloss\\documents\\sofe3980u-lab5\\env\\lib\\site-packages (from notebook>=6.4.10->great_expectations) (6.4.2)\n",
            "Requirement already satisfied: tzdata>=2022.7 in c:\\users\\gloss\\documents\\sofe3980u-lab5\\env\\lib\\site-packages (from pandas>=1.3.0->great_expectations) (2025.2)\n",
            "Requirement already satisfied: annotated-types>=0.6.0 in c:\\users\\gloss\\documents\\sofe3980u-lab5\\env\\lib\\site-packages (from pydantic>=1.9.2->great_expectations) (0.7.0)\n",
            "Requirement already satisfied: pydantic-core==2.27.2 in c:\\users\\gloss\\documents\\sofe3980u-lab5\\env\\lib\\site-packages (from pydantic>=1.9.2->great_expectations) (2.27.2)\n",
            "Requirement already satisfied: six>=1.5 in c:\\users\\gloss\\documents\\sofe3980u-lab5\\env\\lib\\site-packages (from python-dateutil>=2.8.1->great_expectations) (1.17.0)\n",
            "Requirement already satisfied: charset-normalizer<4,>=2 in c:\\users\\gloss\\documents\\sofe3980u-lab5\\env\\lib\\site-packages (from requests>=2.20->great_expectations) (3.4.1)\n",
            "Requirement already satisfied: idna<4,>=2.5 in c:\\users\\gloss\\documents\\sofe3980u-lab5\\env\\lib\\site-packages (from requests>=2.20->great_expectations) (3.10)\n",
            "Requirement already satisfied: certifi>=2017.4.17 in c:\\users\\gloss\\documents\\sofe3980u-lab5\\env\\lib\\site-packages (from requests>=2.20->great_expectations) (2025.1.31)\n",
            "Requirement already satisfied: pycparser in c:\\users\\gloss\\documents\\sofe3980u-lab5\\env\\lib\\site-packages (from cffi>=1.12->cryptography>=3.2->great_expectations) (2.22)\n",
            "Requirement already satisfied: parso<0.9.0,>=0.8.4 in c:\\users\\gloss\\documents\\sofe3980u-lab5\\env\\lib\\site-packages (from jedi>=0.16->Ipython>=7.16.3->great_expectations) (0.8.4)\n",
            "Requirement already satisfied: platformdirs>=2.5 in c:\\users\\gloss\\documents\\sofe3980u-lab5\\env\\lib\\site-packages (from jupyter-core!=5.0.*,>=4.12->nbformat>=5.0->great_expectations) (4.3.7)\n",
            "Requirement already satisfied: pywin32>=300 in c:\\users\\gloss\\documents\\sofe3980u-lab5\\env\\lib\\site-packages (from jupyter-core!=5.0.*,>=4.12->nbformat>=5.0->great_expectations) (310)\n",
            "Requirement already satisfied: anyio>=3.1.0 in c:\\users\\gloss\\documents\\sofe3980u-lab5\\env\\lib\\site-packages (from jupyter-server<3,>=2.4.0->notebook>=6.4.10->great_expectations) (4.9.0)\n",
            "Requirement already satisfied: argon2-cffi>=21.1 in c:\\users\\gloss\\documents\\sofe3980u-lab5\\env\\lib\\site-packages (from jupyter-server<3,>=2.4.0->notebook>=6.4.10->great_expectations) (23.1.0)\n",
            "Requirement already satisfied: jupyter-client>=7.4.4 in c:\\users\\gloss\\documents\\sofe3980u-lab5\\env\\lib\\site-packages (from jupyter-server<3,>=2.4.0->notebook>=6.4.10->great_expectations) (8.6.3)\n",
            "Requirement already satisfied: jupyter-events>=0.11.0 in c:\\users\\gloss\\documents\\sofe3980u-lab5\\env\\lib\\site-packages (from jupyter-server<3,>=2.4.0->notebook>=6.4.10->great_expectations) (0.12.0)\n",
            "Requirement already satisfied: jupyter-server-terminals>=0.4.4 in c:\\users\\gloss\\documents\\sofe3980u-lab5\\env\\lib\\site-packages (from jupyter-server<3,>=2.4.0->notebook>=6.4.10->great_expectations) (0.5.3)\n",
            "Requirement already satisfied: nbconvert>=6.4.4 in c:\\users\\gloss\\documents\\sofe3980u-lab5\\env\\lib\\site-packages (from jupyter-server<3,>=2.4.0->notebook>=6.4.10->great_expectations) (7.16.6)\n",
            "Requirement already satisfied: overrides>=5.0 in c:\\users\\gloss\\documents\\sofe3980u-lab5\\env\\lib\\site-packages (from jupyter-server<3,>=2.4.0->notebook>=6.4.10->great_expectations) (7.7.0)\n",
            "Requirement already satisfied: prometheus-client>=0.9 in c:\\users\\gloss\\documents\\sofe3980u-lab5\\env\\lib\\site-packages (from jupyter-server<3,>=2.4.0->notebook>=6.4.10->great_expectations) (0.21.1)\n",
            "Requirement already satisfied: pywinpty>=2.0.1 in c:\\users\\gloss\\documents\\sofe3980u-lab5\\env\\lib\\site-packages (from jupyter-server<3,>=2.4.0->notebook>=6.4.10->great_expectations) (2.0.15)\n",
            "Requirement already satisfied: pyzmq>=24 in c:\\users\\gloss\\documents\\sofe3980u-lab5\\env\\lib\\site-packages (from jupyter-server<3,>=2.4.0->notebook>=6.4.10->great_expectations) (26.3.0)\n",
            "Requirement already satisfied: send2trash>=1.8.2 in c:\\users\\gloss\\documents\\sofe3980u-lab5\\env\\lib\\site-packages (from jupyter-server<3,>=2.4.0->notebook>=6.4.10->great_expectations) (1.8.3)\n",
            "Requirement already satisfied: terminado>=0.8.3 in c:\\users\\gloss\\documents\\sofe3980u-lab5\\env\\lib\\site-packages (from jupyter-server<3,>=2.4.0->notebook>=6.4.10->great_expectations) (0.18.1)\n",
            "Requirement already satisfied: websocket-client>=1.7 in c:\\users\\gloss\\documents\\sofe3980u-lab5\\env\\lib\\site-packages (from jupyter-server<3,>=2.4.0->notebook>=6.4.10->great_expectations) (1.8.0)\n",
            "Requirement already satisfied: async-lru>=1.0.0 in c:\\users\\gloss\\documents\\sofe3980u-lab5\\env\\lib\\site-packages (from jupyterlab<4.4,>=4.3.6->notebook>=6.4.10->great_expectations) (2.0.5)\n",
            "Requirement already satisfied: httpx>=0.25.0 in c:\\users\\gloss\\documents\\sofe3980u-lab5\\env\\lib\\site-packages (from jupyterlab<4.4,>=4.3.6->notebook>=6.4.10->great_expectations) (0.28.1)\n",
            "Requirement already satisfied: ipykernel>=6.5.0 in c:\\users\\gloss\\documents\\sofe3980u-lab5\\env\\lib\\site-packages (from jupyterlab<4.4,>=4.3.6->notebook>=6.4.10->great_expectations) (6.29.5)\n",
            "Requirement already satisfied: jupyter-lsp>=2.0.0 in c:\\users\\gloss\\documents\\sofe3980u-lab5\\env\\lib\\site-packages (from jupyterlab<4.4,>=4.3.6->notebook>=6.4.10->great_expectations) (2.2.5)\n",
            "Requirement already satisfied: setuptools>=40.8.0 in c:\\users\\gloss\\documents\\sofe3980u-lab5\\env\\lib\\site-packages (from jupyterlab<4.4,>=4.3.6->notebook>=6.4.10->great_expectations) (78.0.2)\n",
            "Requirement already satisfied: babel>=2.10 in c:\\users\\gloss\\documents\\sofe3980u-lab5\\env\\lib\\site-packages (from jupyterlab-server<3,>=2.27.1->notebook>=6.4.10->great_expectations) (2.17.0)\n",
            "Requirement already satisfied: json5>=0.9.0 in c:\\users\\gloss\\documents\\sofe3980u-lab5\\env\\lib\\site-packages (from jupyterlab-server<3,>=2.27.1->notebook>=6.4.10->great_expectations) (0.10.0)\n",
            "Requirement already satisfied: wcwidth in c:\\users\\gloss\\documents\\sofe3980u-lab5\\env\\lib\\site-packages (from prompt_toolkit<3.1.0,>=3.0.41->Ipython>=7.16.3->great_expectations) (0.2.13)\n",
            "Requirement already satisfied: executing>=1.2.0 in c:\\users\\gloss\\documents\\sofe3980u-lab5\\env\\lib\\site-packages (from stack_data->Ipython>=7.16.3->great_expectations) (2.2.0)\n",
            "Requirement already satisfied: asttokens>=2.1.0 in c:\\users\\gloss\\documents\\sofe3980u-lab5\\env\\lib\\site-packages (from stack_data->Ipython>=7.16.3->great_expectations) (3.0.0)\n",
            "Requirement already satisfied: pure-eval in c:\\users\\gloss\\documents\\sofe3980u-lab5\\env\\lib\\site-packages (from stack_data->Ipython>=7.16.3->great_expectations) (0.2.3)\n",
            "Requirement already satisfied: sniffio>=1.1 in c:\\users\\gloss\\documents\\sofe3980u-lab5\\env\\lib\\site-packages (from anyio>=3.1.0->jupyter-server<3,>=2.4.0->notebook>=6.4.10->great_expectations) (1.3.1)\n",
            "Requirement already satisfied: argon2-cffi-bindings in c:\\users\\gloss\\documents\\sofe3980u-lab5\\env\\lib\\site-packages (from argon2-cffi>=21.1->jupyter-server<3,>=2.4.0->notebook>=6.4.10->great_expectations) (21.2.0)\n",
            "Requirement already satisfied: httpcore==1.* in c:\\users\\gloss\\documents\\sofe3980u-lab5\\env\\lib\\site-packages (from httpx>=0.25.0->jupyterlab<4.4,>=4.3.6->notebook>=6.4.10->great_expectations) (1.0.7)\n",
            "Requirement already satisfied: h11<0.15,>=0.13 in c:\\users\\gloss\\documents\\sofe3980u-lab5\\env\\lib\\site-packages (from httpcore==1.*->httpx>=0.25.0->jupyterlab<4.4,>=4.3.6->notebook>=6.4.10->great_expectations) (0.14.0)\n",
            "Requirement already satisfied: debugpy>=1.6.5 in c:\\users\\gloss\\documents\\sofe3980u-lab5\\env\\lib\\site-packages (from ipykernel>=6.5.0->jupyterlab<4.4,>=4.3.6->notebook>=6.4.10->great_expectations) (1.8.13)\n",
            "Requirement already satisfied: nest-asyncio in c:\\users\\gloss\\documents\\sofe3980u-lab5\\env\\lib\\site-packages (from ipykernel>=6.5.0->jupyterlab<4.4,>=4.3.6->notebook>=6.4.10->great_expectations) (1.6.0)\n",
            "Requirement already satisfied: psutil in c:\\users\\gloss\\documents\\sofe3980u-lab5\\env\\lib\\site-packages (from ipykernel>=6.5.0->jupyterlab<4.4,>=4.3.6->notebook>=6.4.10->great_expectations) (7.0.0)\n",
            "Requirement already satisfied: python-json-logger>=2.0.4 in c:\\users\\gloss\\documents\\sofe3980u-lab5\\env\\lib\\site-packages (from jupyter-events>=0.11.0->jupyter-server<3,>=2.4.0->notebook>=6.4.10->great_expectations) (3.3.0)\n",
            "Requirement already satisfied: pyyaml>=5.3 in c:\\users\\gloss\\documents\\sofe3980u-lab5\\env\\lib\\site-packages (from jupyter-events>=0.11.0->jupyter-server<3,>=2.4.0->notebook>=6.4.10->great_expectations) (6.0.2)\n",
            "Requirement already satisfied: rfc3339-validator in c:\\users\\gloss\\documents\\sofe3980u-lab5\\env\\lib\\site-packages (from jupyter-events>=0.11.0->jupyter-server<3,>=2.4.0->notebook>=6.4.10->great_expectations) (0.1.4)\n",
            "Requirement already satisfied: rfc3986-validator>=0.1.1 in c:\\users\\gloss\\documents\\sofe3980u-lab5\\env\\lib\\site-packages (from jupyter-events>=0.11.0->jupyter-server<3,>=2.4.0->notebook>=6.4.10->great_expectations) (0.1.1)\n",
            "Requirement already satisfied: beautifulsoup4 in c:\\users\\gloss\\documents\\sofe3980u-lab5\\env\\lib\\site-packages (from nbconvert>=6.4.4->jupyter-server<3,>=2.4.0->notebook>=6.4.10->great_expectations) (4.13.3)\n",
            "Requirement already satisfied: bleach!=5.0.0 in c:\\users\\gloss\\documents\\sofe3980u-lab5\\env\\lib\\site-packages (from bleach[css]!=5.0.0->nbconvert>=6.4.4->jupyter-server<3,>=2.4.0->notebook>=6.4.10->great_expectations) (6.2.0)\n",
            "Requirement already satisfied: defusedxml in c:\\users\\gloss\\documents\\sofe3980u-lab5\\env\\lib\\site-packages (from nbconvert>=6.4.4->jupyter-server<3,>=2.4.0->notebook>=6.4.10->great_expectations) (0.7.1)\n",
            "Requirement already satisfied: jupyterlab-pygments in c:\\users\\gloss\\documents\\sofe3980u-lab5\\env\\lib\\site-packages (from nbconvert>=6.4.4->jupyter-server<3,>=2.4.0->notebook>=6.4.10->great_expectations) (0.3.0)\n",
            "Requirement already satisfied: nbclient>=0.5.0 in c:\\users\\gloss\\documents\\sofe3980u-lab5\\env\\lib\\site-packages (from nbconvert>=6.4.4->jupyter-server<3,>=2.4.0->notebook>=6.4.10->great_expectations) (0.10.2)\n",
            "Requirement already satisfied: pandocfilters>=1.4.1 in c:\\users\\gloss\\documents\\sofe3980u-lab5\\env\\lib\\site-packages (from nbconvert>=6.4.4->jupyter-server<3,>=2.4.0->notebook>=6.4.10->great_expectations) (1.5.1)\n",
            "Requirement already satisfied: webencodings in c:\\users\\gloss\\documents\\sofe3980u-lab5\\env\\lib\\site-packages (from bleach!=5.0.0->bleach[css]!=5.0.0->nbconvert>=6.4.4->jupyter-server<3,>=2.4.0->notebook>=6.4.10->great_expectations) (0.5.1)\n",
            "Requirement already satisfied: tinycss2<1.5,>=1.1.0 in c:\\users\\gloss\\documents\\sofe3980u-lab5\\env\\lib\\site-packages (from bleach[css]!=5.0.0->nbconvert>=6.4.4->jupyter-server<3,>=2.4.0->notebook>=6.4.10->great_expectations) (1.4.0)\n",
            "Requirement already satisfied: fqdn in c:\\users\\gloss\\documents\\sofe3980u-lab5\\env\\lib\\site-packages (from jsonschema[format-nongpl]>=4.18.0->jupyter-events>=0.11.0->jupyter-server<3,>=2.4.0->notebook>=6.4.10->great_expectations) (1.5.1)\n",
            "Requirement already satisfied: isoduration in c:\\users\\gloss\\documents\\sofe3980u-lab5\\env\\lib\\site-packages (from jsonschema[format-nongpl]>=4.18.0->jupyter-events>=0.11.0->jupyter-server<3,>=2.4.0->notebook>=6.4.10->great_expectations) (20.11.0)\n",
            "Requirement already satisfied: uri-template in c:\\users\\gloss\\documents\\sofe3980u-lab5\\env\\lib\\site-packages (from jsonschema[format-nongpl]>=4.18.0->jupyter-events>=0.11.0->jupyter-server<3,>=2.4.0->notebook>=6.4.10->great_expectations) (1.3.0)\n",
            "Requirement already satisfied: webcolors>=24.6.0 in c:\\users\\gloss\\documents\\sofe3980u-lab5\\env\\lib\\site-packages (from jsonschema[format-nongpl]>=4.18.0->jupyter-events>=0.11.0->jupyter-server<3,>=2.4.0->notebook>=6.4.10->great_expectations) (24.11.1)\n",
            "Requirement already satisfied: soupsieve>1.2 in c:\\users\\gloss\\documents\\sofe3980u-lab5\\env\\lib\\site-packages (from beautifulsoup4->nbconvert>=6.4.4->jupyter-server<3,>=2.4.0->notebook>=6.4.10->great_expectations) (2.6)\n",
            "Requirement already satisfied: arrow>=0.15.0 in c:\\users\\gloss\\documents\\sofe3980u-lab5\\env\\lib\\site-packages (from isoduration->jsonschema[format-nongpl]>=4.18.0->jupyter-events>=0.11.0->jupyter-server<3,>=2.4.0->notebook>=6.4.10->great_expectations) (1.3.0)\n",
            "Requirement already satisfied: types-python-dateutil>=2.8.10 in c:\\users\\gloss\\documents\\sofe3980u-lab5\\env\\lib\\site-packages (from arrow>=0.15.0->isoduration->jsonschema[format-nongpl]>=4.18.0->jupyter-events>=0.11.0->jupyter-server<3,>=2.4.0->notebook>=6.4.10->great_expectations) (2.9.0.20241206)\n",
            "Note: you may need to restart the kernel to use updated packages.\n"
          ]
        }
      ],
      "source": [
        "%pip install great_expectations"
      ]
    },
    {
      "cell_type": "markdown",
      "metadata": {
        "id": "fWSO9h40JZjg"
      },
      "source": [
        "##2. Import Necessary Libraries"
      ]
    },
    {
      "cell_type": "code",
      "execution_count": 9,
      "metadata": {
        "collapsed": true,
        "id": "77qWdq8yVVEl"
      },
      "outputs": [
        {
          "ename": "ImportError",
          "evalue": "Unable to import required dependencies:\nnumpy: Error importing numpy: you should not try to import numpy from\n        its source directory; please exit the numpy source tree, and relaunch\n        your python interpreter from there.",
          "output_type": "error",
          "traceback": [
            "\u001b[31m---------------------------------------------------------------------------\u001b[39m",
            "\u001b[31mImportError\u001b[39m                               Traceback (most recent call last)",
            "\u001b[36mCell\u001b[39m\u001b[36m \u001b[39m\u001b[32mIn[9]\u001b[39m\u001b[32m, line 1\u001b[39m\n\u001b[32m----> \u001b[39m\u001b[32m1\u001b[39m \u001b[38;5;28;01mimport\u001b[39;00m\u001b[38;5;250m \u001b[39m\u001b[34;01mpandas\u001b[39;00m\u001b[38;5;250m \u001b[39m\u001b[38;5;28;01mas\u001b[39;00m\u001b[38;5;250m \u001b[39m\u001b[34;01mpd\u001b[39;00m\n\u001b[32m      2\u001b[39m \u001b[38;5;28;01mimport\u001b[39;00m\u001b[38;5;250m \u001b[39m\u001b[34;01mgreat_expectations\u001b[39;00m\u001b[38;5;250m \u001b[39m\u001b[38;5;28;01mas\u001b[39;00m\u001b[38;5;250m \u001b[39m\u001b[34;01mgx\u001b[39;00m\n",
            "\u001b[36mFile \u001b[39m\u001b[32mc:\\Users\\gloss\\Documents\\SOFE3980U-Lab5\\env\\Lib\\site-packages\\pandas\\__init__.py:32\u001b[39m\n\u001b[32m     29\u001b[39m         _missing_dependencies.append(\u001b[33mf\u001b[39m\u001b[33m\"\u001b[39m\u001b[38;5;132;01m{\u001b[39;00m_dependency\u001b[38;5;132;01m}\u001b[39;00m\u001b[33m: \u001b[39m\u001b[38;5;132;01m{\u001b[39;00m_e\u001b[38;5;132;01m}\u001b[39;00m\u001b[33m\"\u001b[39m)\n\u001b[32m     31\u001b[39m \u001b[38;5;28;01mif\u001b[39;00m _missing_dependencies:  \u001b[38;5;66;03m# pragma: no cover\u001b[39;00m\n\u001b[32m---> \u001b[39m\u001b[32m32\u001b[39m     \u001b[38;5;28;01mraise\u001b[39;00m \u001b[38;5;167;01mImportError\u001b[39;00m(\n\u001b[32m     33\u001b[39m         \u001b[33m\"\u001b[39m\u001b[33mUnable to import required dependencies:\u001b[39m\u001b[38;5;130;01m\\n\u001b[39;00m\u001b[33m\"\u001b[39m + \u001b[33m\"\u001b[39m\u001b[38;5;130;01m\\n\u001b[39;00m\u001b[33m\"\u001b[39m.join(_missing_dependencies)\n\u001b[32m     34\u001b[39m     )\n\u001b[32m     35\u001b[39m \u001b[38;5;28;01mdel\u001b[39;00m _hard_dependencies, _dependency, _missing_dependencies\n\u001b[32m     37\u001b[39m \u001b[38;5;28;01mtry\u001b[39;00m:\n\u001b[32m     38\u001b[39m     \u001b[38;5;66;03m# numpy compat\u001b[39;00m\n",
            "\u001b[31mImportError\u001b[39m: Unable to import required dependencies:\nnumpy: Error importing numpy: you should not try to import numpy from\n        its source directory; please exit the numpy source tree, and relaunch\n        your python interpreter from there."
          ]
        }
      ],
      "source": [
        "import pandas as pd\n",
        "import great_expectations as gx"
      ]
    },
    {
      "cell_type": "markdown",
      "metadata": {
        "id": "Fdt5KucDJu-h"
      },
      "source": [
        "##3. Load Labels.csv"
      ]
    },
    {
      "cell_type": "markdown",
      "metadata": {
        "id": "pP3MW4uUhwAR"
      },
      "source": [
        "Download and upload the [Labels.csv](https://github.com/zubxxr/SOFE3980U-Lab5/blob/main/Labels.csv) into this notebook, and then load the file."
      ]
    },
    {
      "cell_type": "code",
      "execution_count": null,
      "metadata": {
        "id": "ogHUyzFKdS5z"
      },
      "outputs": [],
      "source": [
        "# Write code here"
      ]
    },
    {
      "cell_type": "markdown",
      "metadata": {
        "id": "2BCIXXwdJyS7"
      },
      "source": [
        "##4. Preview the Dataset"
      ]
    },
    {
      "cell_type": "code",
      "execution_count": null,
      "metadata": {
        "id": "OXpbbmRsVj0k"
      },
      "outputs": [],
      "source": [
        "df.head()"
      ]
    },
    {
      "cell_type": "markdown",
      "metadata": {
        "id": "WwljyFlFJ1A8"
      },
      "source": [
        "##5. Set Up Great Expectations Context and Data Source"
      ]
    },
    {
      "cell_type": "code",
      "execution_count": null,
      "metadata": {
        "id": "SxSmTGmZVk5U"
      },
      "outputs": [],
      "source": [
        "# Write code here"
      ]
    },
    {
      "cell_type": "markdown",
      "metadata": {
        "id": "IHl4W07zJ5-A"
      },
      "source": [
        "##6. Define and Create a Data Batch"
      ]
    },
    {
      "cell_type": "code",
      "execution_count": null,
      "metadata": {
        "id": "dTdpe1tVhpgp"
      },
      "outputs": [],
      "source": [
        "# Write code here"
      ]
    },
    {
      "cell_type": "markdown",
      "metadata": {
        "id": "JhVlKGYXJ8Tf"
      },
      "source": [
        "##7. Define Three Expectations for Column Values"
      ]
    },
    {
      "cell_type": "markdown",
      "metadata": {
        "id": "8ixvqF3OYnlt"
      },
      "source": [
        "Using this [link](https://greatexpectations.io/expectations/), choose three expectation functions and apply them to the labels dataset in a relevant manner.\n",
        "\n",
        "You should replace the 'ExpectColumnValuesToBeBetween' function with other functions you select from the link.\n",
        "\n",
        "You can also check the format/parameters required of each function when you click \"See more\" on the function."
      ]
    },
    {
      "cell_type": "code",
      "execution_count": null,
      "metadata": {
        "id": "O2JMz9pScU6n"
      },
      "outputs": [],
      "source": [
        "## Original Function\n",
        "expectation = gx.expectations.ExpectColumnValuesToBeBetween(\n",
        "    column=\"column\", min_value=0, max_value=20\n",
        ")\n",
        "\n",
        "## Example Function\n",
        "\n",
        "## This function only requires a column parameter, and not a max or min value\n",
        "expectation = gx.expectations.ExpectColumnValuesToBeUnique(\n",
        "    column=\"column\"\n",
        ")"
      ]
    },
    {
      "cell_type": "markdown",
      "metadata": {
        "id": "gaIvn5Y-Mazw"
      },
      "source": [
        "### Expectation 1"
      ]
    },
    {
      "cell_type": "code",
      "execution_count": null,
      "metadata": {
        "id": "PJw-qrNyhsIX"
      },
      "outputs": [],
      "source": [
        "# Write code here"
      ]
    },
    {
      "cell_type": "markdown",
      "metadata": {
        "id": "iaWGD8GL8jSA"
      },
      "source": [
        "### Validate Data Against Expectation 1"
      ]
    },
    {
      "cell_type": "code",
      "execution_count": null,
      "metadata": {
        "id": "zE_iE0yr8k9y"
      },
      "outputs": [],
      "source": [
        "# Write code here"
      ]
    },
    {
      "cell_type": "markdown",
      "metadata": {
        "id": "37TjcPpxYiMZ"
      },
      "source": [
        "### Expectation 2"
      ]
    },
    {
      "cell_type": "code",
      "execution_count": null,
      "metadata": {
        "id": "duJPbIxoYfNc"
      },
      "outputs": [],
      "source": [
        "# Write code here"
      ]
    },
    {
      "cell_type": "markdown",
      "metadata": {
        "id": "rCO1JE2O8lcf"
      },
      "source": [
        "### Validate Data Against Expectation 2"
      ]
    },
    {
      "cell_type": "code",
      "execution_count": null,
      "metadata": {
        "id": "0HbLTxQJ8rXp"
      },
      "outputs": [],
      "source": [
        "# Write code here"
      ]
    },
    {
      "cell_type": "markdown",
      "metadata": {
        "id": "JEJ28eyoYfra"
      },
      "source": [
        "### Expectation 3"
      ]
    },
    {
      "cell_type": "code",
      "execution_count": null,
      "metadata": {
        "id": "tWFlN_hqYfkC"
      },
      "outputs": [],
      "source": [
        "# Write code here"
      ]
    },
    {
      "cell_type": "markdown",
      "metadata": {
        "id": "D9rzavkK8mqM"
      },
      "source": [
        "### Validate Data Against Expectation 3"
      ]
    },
    {
      "cell_type": "code",
      "execution_count": null,
      "metadata": {
        "id": "xGed5qns8om2"
      },
      "outputs": [],
      "source": [
        "# Write code here"
      ]
    }
  ],
  "metadata": {
    "colab": {
      "provenance": []
    },
    "kernelspec": {
      "display_name": "env",
      "language": "python",
      "name": "python3"
    },
    "language_info": {
      "codemirror_mode": {
        "name": "ipython",
        "version": 3
      },
      "file_extension": ".py",
      "mimetype": "text/x-python",
      "name": "python",
      "nbconvert_exporter": "python",
      "pygments_lexer": "ipython3",
      "version": "3.13.2"
    }
  },
  "nbformat": 4,
  "nbformat_minor": 0
}
